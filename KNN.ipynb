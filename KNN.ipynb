{
 "cells": [
  {
   "cell_type": "code",
   "execution_count": 15,
   "id": "6d2ff9df",
   "metadata": {},
   "outputs": [
    {
     "data": {
      "text/html": [
       "<div>\n",
       "<style scoped>\n",
       "    .dataframe tbody tr th:only-of-type {\n",
       "        vertical-align: middle;\n",
       "    }\n",
       "\n",
       "    .dataframe tbody tr th {\n",
       "        vertical-align: top;\n",
       "    }\n",
       "\n",
       "    .dataframe thead th {\n",
       "        text-align: right;\n",
       "    }\n",
       "</style>\n",
       "<table border=\"1\" class=\"dataframe\">\n",
       "  <thead>\n",
       "    <tr style=\"text-align: right;\">\n",
       "      <th></th>\n",
       "      <th>Age</th>\n",
       "      <th>Income</th>\n",
       "      <th>Car</th>\n",
       "    </tr>\n",
       "  </thead>\n",
       "  <tbody>\n",
       "    <tr>\n",
       "      <th>0</th>\n",
       "      <td>28</td>\n",
       "      <td>37000</td>\n",
       "      <td>0</td>\n",
       "    </tr>\n",
       "    <tr>\n",
       "      <th>1</th>\n",
       "      <td>27</td>\n",
       "      <td>88000</td>\n",
       "      <td>0</td>\n",
       "    </tr>\n",
       "    <tr>\n",
       "      <th>2</th>\n",
       "      <td>28</td>\n",
       "      <td>59000</td>\n",
       "      <td>0</td>\n",
       "    </tr>\n",
       "    <tr>\n",
       "      <th>3</th>\n",
       "      <td>32</td>\n",
       "      <td>86000</td>\n",
       "      <td>0</td>\n",
       "    </tr>\n",
       "    <tr>\n",
       "      <th>4</th>\n",
       "      <td>33</td>\n",
       "      <td>149000</td>\n",
       "      <td>1</td>\n",
       "    </tr>\n",
       "    <tr>\n",
       "      <th>5</th>\n",
       "      <td>19</td>\n",
       "      <td>21000</td>\n",
       "      <td>0</td>\n",
       "    </tr>\n",
       "    <tr>\n",
       "      <th>6</th>\n",
       "      <td>21</td>\n",
       "      <td>72000</td>\n",
       "      <td>0</td>\n",
       "    </tr>\n",
       "    <tr>\n",
       "      <th>7</th>\n",
       "      <td>26</td>\n",
       "      <td>35000</td>\n",
       "      <td>0</td>\n",
       "    </tr>\n",
       "    <tr>\n",
       "      <th>8</th>\n",
       "      <td>27</td>\n",
       "      <td>89000</td>\n",
       "      <td>0</td>\n",
       "    </tr>\n",
       "    <tr>\n",
       "      <th>9</th>\n",
       "      <td>26</td>\n",
       "      <td>86000</td>\n",
       "      <td>0</td>\n",
       "    </tr>\n",
       "  </tbody>\n",
       "</table>\n",
       "</div>"
      ],
      "text/plain": [
       "   Age  Income  Car\n",
       "0   28   37000    0\n",
       "1   27   88000    0\n",
       "2   28   59000    0\n",
       "3   32   86000    0\n",
       "4   33  149000    1\n",
       "5   19   21000    0\n",
       "6   21   72000    0\n",
       "7   26   35000    0\n",
       "8   27   89000    0\n",
       "9   26   86000    0"
      ]
     },
     "execution_count": 15,
     "metadata": {},
     "output_type": "execute_result"
    }
   ],
   "source": [
    "import pandas as pd\n",
    "dataset = pd.read_csv('/Users/shridharmankar/Car.csv')\n",
    "X = dataset[['Age','Income']]\n",
    "y = dataset[['Car']]\n",
    "dataset.head(10)"
   ]
  },
  {
   "cell_type": "code",
   "execution_count": 16,
   "id": "250fc8d4",
   "metadata": {},
   "outputs": [],
   "source": [
    "from sklearn.model_selection import train_test_split\n",
    "X_train, X_test, y_train, y_test = train_test_split(X, y, test_size = 0.40, random_state = 0)"
   ]
  },
  {
   "cell_type": "code",
   "execution_count": 17,
   "id": "eb64db04",
   "metadata": {},
   "outputs": [
    {
     "name": "stdout",
     "output_type": "stream",
     "text": [
      "    Age  Income\n",
      "1    27   88000\n",
      "61   32  100000\n",
      "42   18   68000\n",
      "41   19   85000\n",
      "4    33  149000\n",
      "15   42   80000\n",
      "17   35   75000\n",
      "40   19   25000\n",
      "38   30  107000\n",
      "5    19   21000\n",
      "91   24   84000\n",
      "59   26   30000\n",
      "0    28   37000\n",
      "34   21   68000\n",
      "28   26   32000\n",
      "50   20   74000\n",
      "11   39   71000\n",
      "35   28   55000\n",
      "23   40   75000\n",
      "52   41   45000\n",
      "10   38   80000\n",
      "31   31   58000\n",
      "66   18   86000\n",
      "57   46   59000\n",
      "79   24   23000\n",
      "85   33   60000\n",
      "32   33   31000\n",
      "84   33   43000\n",
      "14   37   55000\n",
      "89   35   72000\n",
      "19   40   59000\n",
      "29   30   17000\n",
      "49   29   61000\n",
      "97   30   79000\n",
      "98   20   36000\n",
      "69   29  148000\n",
      "20   41   59000\n",
      "94   19   70000\n",
      "72   34  115000\n",
      "77   35   47000\n",
      "25   41   51000\n",
      "37   20   82000\n",
      "81   26   16000\n",
      "46   24   89000\n",
      "39   28   59000\n",
      "65   33   69000\n",
      "58   29   75000\n",
      "12   37   71000\n",
      "88   33   41000\n",
      "70   29   47000\n",
      "87   20   82000\n",
      "36   23   63000\n",
      "21   36   75000\n",
      "83   32  117000\n",
      "9    26   86000\n",
      "96   34   43000\n",
      "67   22   55000\n",
      "64   35   38000\n",
      "47   27   96000\n",
      "44   30   89000\n",
      "    Age  Income\n",
      "26   39   61000\n",
      "86   31   66000\n",
      "2    28   59000\n",
      "55   40   47000\n",
      "75   34   72000\n",
      "93   29   43000\n",
      "16   40   57000\n",
      "73   26  118000\n",
      "54   36   50000\n",
      "95   28   89000\n",
      "53   31   76000\n",
      "92   19   26000\n",
      "78   25   22000\n",
      "13   38   61000\n",
      "7    26   35000\n",
      "30   26   84000\n",
      "22   37   72000\n",
      "24   35   53000\n",
      "33   30   87000\n",
      "8    27   89000\n",
      "43   35   59000\n",
      "62   25   90000\n",
      "3    32   86000\n",
      "71   21   88000\n",
      "45   34   25000\n",
      "48   41   30000\n",
      "6    21   72000\n",
      "99   26   80000\n",
      "82   31   71000\n",
      "76   23   28000\n",
      "60   32  135000\n",
      "80   31   34000\n",
      "90   28   32000\n",
      "68   35   71000\n",
      "51   26   15000\n",
      "27   42   65000\n",
      "18   36   52000\n",
      "56   31   15000\n",
      "63   37   33000\n",
      "74   34   43000\n",
      "    Car\n",
      "1     0\n",
      "61    1\n",
      "42    0\n",
      "41    0\n",
      "4     1\n",
      "15    0\n",
      "17    0\n",
      "40    0\n",
      "38    1\n",
      "5     0\n",
      "91    0\n",
      "59    0\n",
      "0     0\n",
      "34    0\n",
      "28    0\n",
      "50    0\n",
      "11    0\n",
      "35    0\n",
      "23    0\n",
      "52    0\n",
      "10    0\n",
      "31    0\n",
      "66    0\n",
      "57    0\n",
      "79    0\n",
      "85    0\n",
      "32    0\n",
      "84    0\n",
      "14    0\n",
      "89    0\n",
      "19    0\n",
      "29    0\n",
      "49    0\n",
      "97    0\n",
      "98    0\n",
      "69    1\n",
      "20    0\n",
      "94    0\n",
      "72    0\n",
      "77    0\n",
      "25    0\n",
      "37    0\n",
      "81    0\n",
      "46    0\n",
      "39    0\n",
      "65    0\n",
      "58    0\n",
      "12    0\n",
      "88    0\n",
      "70    0\n",
      "87    0\n",
      "36    0\n",
      "21    0\n",
      "83    1\n",
      "9     0\n",
      "96    0\n",
      "67    0\n",
      "64    0\n",
      "47    1\n",
      "44    0\n",
      "    Car\n",
      "26    0\n",
      "86    0\n",
      "2     0\n",
      "55    0\n",
      "75    0\n",
      "93    0\n",
      "16    0\n",
      "73    0\n",
      "54    0\n",
      "95    0\n",
      "53    0\n",
      "92    0\n",
      "78    0\n",
      "13    0\n",
      "7     0\n",
      "30    0\n",
      "22    0\n",
      "24    0\n",
      "33    0\n",
      "8     0\n",
      "43    0\n",
      "62    0\n",
      "3     0\n",
      "71    0\n",
      "45    0\n",
      "48    0\n",
      "6     0\n",
      "99    0\n",
      "82    0\n",
      "76    0\n",
      "60    1\n",
      "80    0\n",
      "90    0\n",
      "68    0\n",
      "51    0\n",
      "27    0\n",
      "18    0\n",
      "56    0\n",
      "63    0\n",
      "74    0\n"
     ]
    }
   ],
   "source": [
    "print(X_train)\n",
    "print(X_test)\n",
    "print(y_train)\n",
    "print(y_test)"
   ]
  },
  {
   "cell_type": "code",
   "execution_count": 18,
   "id": "cf57b27e",
   "metadata": {},
   "outputs": [
    {
     "data": {
      "text/plain": [
       "KNeighborsClassifier(n_neighbors=3)"
      ]
     },
     "execution_count": 18,
     "metadata": {},
     "output_type": "execute_result"
    }
   ],
   "source": [
    "from sklearn.neighbors import KNeighborsClassifier\n",
    "classifier = KNeighborsClassifier(n_neighbors = 3)\n",
    "classifier.fit(X_train, y_train)"
   ]
  },
  {
   "cell_type": "code",
   "execution_count": 19,
   "id": "0993830a",
   "metadata": {},
   "outputs": [
    {
     "name": "stdout",
     "output_type": "stream",
     "text": [
      "[0]\n"
     ]
    }
   ],
   "source": [
    "print(classifier.predict([[60,8500]]))"
   ]
  },
  {
   "cell_type": "code",
   "execution_count": 20,
   "id": "d595728a",
   "metadata": {},
   "outputs": [
    {
     "data": {
      "text/plain": [
       "0.975"
      ]
     },
     "execution_count": 20,
     "metadata": {},
     "output_type": "execute_result"
    }
   ],
   "source": [
    "classifier.score(X_test,y_test)"
   ]
  },
  {
   "cell_type": "code",
   "execution_count": 21,
   "id": "017968b0",
   "metadata": {},
   "outputs": [
    {
     "data": {
      "text/plain": [
       "array([0, 0, 0, 0, 0, 0, 0, 1, 0, 0, 0, 0, 0, 0, 0, 0, 0, 0, 0, 0, 0, 0,\n",
       "       0, 0, 0, 0, 0, 0, 0, 0, 1, 0, 0, 0, 0, 0, 0, 0, 0, 0])"
      ]
     },
     "execution_count": 21,
     "metadata": {},
     "output_type": "execute_result"
    }
   ],
   "source": [
    "y_pred=classifier.predict(X_test)\n",
    "y_pred"
   ]
  },
  {
   "cell_type": "code",
   "execution_count": null,
   "id": "67d1888d",
   "metadata": {},
   "outputs": [],
   "source": []
  },
  {
   "cell_type": "code",
   "execution_count": null,
   "id": "fb94e518",
   "metadata": {},
   "outputs": [],
   "source": []
  },
  {
   "cell_type": "code",
   "execution_count": null,
   "id": "f0d2e33d",
   "metadata": {},
   "outputs": [],
   "source": []
  },
  {
   "cell_type": "code",
   "execution_count": null,
   "id": "6bf6a5dc",
   "metadata": {},
   "outputs": [],
   "source": []
  },
  {
   "cell_type": "code",
   "execution_count": null,
   "id": "a7f17b96",
   "metadata": {},
   "outputs": [],
   "source": []
  },
  {
   "cell_type": "code",
   "execution_count": null,
   "id": "21846767",
   "metadata": {},
   "outputs": [],
   "source": []
  },
  {
   "cell_type": "code",
   "execution_count": null,
   "id": "3d5a3c79",
   "metadata": {},
   "outputs": [],
   "source": []
  },
  {
   "cell_type": "code",
   "execution_count": 22,
   "id": "f952e09d",
   "metadata": {},
   "outputs": [],
   "source": [
    "from sklearn import metrics"
   ]
  },
  {
   "cell_type": "code",
   "execution_count": 23,
   "id": "34f34ab3",
   "metadata": {},
   "outputs": [],
   "source": [
    "confusion_matrix = metrics.confusion_matrix(y_test, y_pred)"
   ]
  },
  {
   "cell_type": "code",
   "execution_count": 24,
   "id": "c3694f14",
   "metadata": {},
   "outputs": [
    {
     "data": {
      "text/plain": [
       "array([[38,  1],\n",
       "       [ 0,  1]])"
      ]
     },
     "execution_count": 24,
     "metadata": {},
     "output_type": "execute_result"
    }
   ],
   "source": [
    "confusion_matrix"
   ]
  },
  {
   "cell_type": "code",
   "execution_count": 25,
   "id": "4449db98",
   "metadata": {},
   "outputs": [],
   "source": [
    "cm = metrics.ConfusionMatrixDisplay(confusion_matrix = confusion_matrix, display_labels = classifier.classes_)"
   ]
  },
  {
   "cell_type": "code",
   "execution_count": 26,
   "id": "ffa4737f",
   "metadata": {},
   "outputs": [],
   "source": [
    "import matplotlib.pyplot as plt"
   ]
  },
  {
   "cell_type": "code",
   "execution_count": 27,
   "id": "efe4c49f",
   "metadata": {},
   "outputs": [
    {
     "data": {
      "image/png": "[encoded data removed]",
      "text/plain": [
       "<Figure size 640x480 with 2 Axes>"
      ]
     },
     "metadata": {},
     "output_type": "display_data"
    }
   ],
   "source": [
    "cm.plot()\n",
    "plt.show()"
   ]
  },
  {
   "cell_type": "code",
   "execution_count": 28,
   "id": "090f8011",
   "metadata": {},
   "outputs": [
    {
     "data": {
      "text/plain": [
       "0.025"
      ]
     },
     "execution_count": 28,
     "metadata": {},
     "output_type": "execute_result"
    }
   ],
   "source": [
    "from sklearn.metrics import mean_absolute_error\n",
    "mean_absolute_error(y_test, y_pred)"
   ]
  },
  {
   "cell_type": "code",
   "execution_count": null,
   "id": "860ee5f8",
   "metadata": {},
   "outputs": [],
   "source": []
  }
 ],
 "metadata": {
  "kernelspec": {
   "display_name": "Python 3 (ipykernel)",
   "language": "python",
   "name": "python3"
  },
  "language_info": {
   "codemirror_mode": {
    "name": "ipython",
    "version": 3
   },
   "file_extension": ".py",
   "mimetype": "text/x-python",
   "name": "python",
   "nbconvert_exporter": "python",
   "pygments_lexer": "ipython3",
   "version": "3.9.13"
  }
 },
 "nbformat": 4,
 "nbformat_minor": 5
}
